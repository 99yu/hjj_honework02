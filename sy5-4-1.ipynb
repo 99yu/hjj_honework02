{
 "cells": [
  {
   "cell_type": "code",
   "execution_count": null,
   "id": "d0903bda",
   "metadata": {},
   "outputs": [],
   "source": [
    "# （1）导入库\n",
    "import numpy as np\n",
    "from sklearn.cluster import KMeans\n",
    "from matplotlib import pyplot as plt\n",
    "\n",
    "# （2）随机生成500个数据\n",
    "X = np.random.rand(500, 3)  # 生成一个随机数据，样本大小为500, 特征数为3\n",
    "\n",
    "# （3）利用散点图将数据展示出来\n",
    "plt.figure(figsize=(16, 10), dpi=144)\n",
    "plt.scatter(X[:, 0], X[:, 1], s=200, cmap='cool')\n",
    "plt.show()\n",
    "\n",
    "# （4）使用KMeans模型拟合，聚类数设为5。\n",
    "kmean = KMeans(5)\n",
    "kmean.fit(X)\n",
    "\n",
    "# （5）将聚类结果利用散点图显示出来\n",
    "labels = kmean.labels_\n",
    "centers = kmean.cluster_centers_\n",
    "fig = plt.figure(figsize=(8, 5), dpi=144)\n",
    "plt.scatter(X[:, 0], X[:, 1], c=labels.astype(int), edgecolor='k')  # 显示聚类结果\n",
    "plt.scatter(centers[:, 0], centers[:, 1], s=50, marker=\"*\")  # 显示质心\n",
    "plt.show()"
   ]
  }
 ],
 "metadata": {
  "kernelspec": {
   "display_name": "Python 3",
   "language": "python",
   "name": "python3"
  },
  "language_info": {
   "codemirror_mode": {
    "name": "ipython",
    "version": 3
   },
   "file_extension": ".py",
   "mimetype": "text/x-python",
   "name": "python",
   "nbconvert_exporter": "python",
   "pygments_lexer": "ipython3",
   "version": "3.8.8"
  }
 },
 "nbformat": 4,
 "nbformat_minor": 5
}
