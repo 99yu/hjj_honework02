{
 "cells": [
  {
   "cell_type": "code",
   "execution_count": null,
   "id": "1e8deecd",
   "metadata": {},
   "outputs": [],
   "source": [
    "# _*_coding:utf-8_*_\n",
    "# （1）导入库\n",
    "from sklearn import datasets\n",
    "from sklearn.decomposition import PCA\n",
    "import matplotlib.pyplot as plt\n",
    "\n",
    "# （2）导入数据集\n",
    "digits = datasets.load_digits()\n",
    "X = digits.data\n",
    "y = digits.target\n",
    "\n",
    "# （3）降维\n",
    "pca = PCA(n_components=2)\n",
    "X_p = pca.fit_transform(X)\n",
    "\n",
    "# （4）可视化\n",
    "plt.figure\n",
    "colors = ['black', 'blue', 'purple', 'yellow', 'green', 'red', 'lime', 'cyan', 'orange', 'gray']\n",
    "label = digits.target_names\n",
    "for i in range(10):\n",
    "    plt.scatter(X_p[y == i, 0], X_p[y == i, 1], c=colors[i], label=label[i])\n",
    "plt.legend()\n",
    "plt.show()\n"
   ]
  }
 ],
 "metadata": {
  "kernelspec": {
   "display_name": "Python 3",
   "language": "python",
   "name": "python3"
  },
  "language_info": {
   "codemirror_mode": {
    "name": "ipython",
    "version": 3
   },
   "file_extension": ".py",
   "mimetype": "text/x-python",
   "name": "python",
   "nbconvert_exporter": "python",
   "pygments_lexer": "ipython3",
   "version": "3.8.8"
  }
 },
 "nbformat": 4,
 "nbformat_minor": 5
}
