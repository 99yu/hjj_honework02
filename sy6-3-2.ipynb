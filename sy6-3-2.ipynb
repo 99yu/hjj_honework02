{
 "cells": [
  {
   "cell_type": "code",
   "execution_count": null,
   "id": "b5776d8a",
   "metadata": {},
   "outputs": [],
   "source": [
    "# （1）导入TensorFlow\n",
    "import tensorflow as tf\n",
    "\n",
    "# （2）载入Fashion-MNIST 数据集\n",
    "fashion_mnist = tf.keras.datasets.fashion_mnist\n",
    "(X_train, y_train), (X_test, y_test) = fashion_mnist.load_data()\n",
    "\n",
    "# （3）利用reshape函数转换数字图像\n",
    "X_train_reshape = X_train.reshape(X_train.shape[0], 28 * 28)\n",
    "X_test_reshape = X_test.reshape(X_test.shape[0], 28 * 28)\n",
    "\n",
    "# （4）归一化数字图像\n",
    "X_train_norm, X_test_norm = X_train_reshape / 255.0, X_test_reshape / 255.0\n",
    "\n",
    "# （5）构建Sequential模型\n",
    "model = tf.keras.models.Sequential()\n",
    "model.add(tf.keras.layers.Dense(32, input_dim=28 * 28, activation='relu'))  # 答案不固定，满足题目要求即可\n",
    "model.add(tf.keras.layers.Dense(10, activation='relu'))  # 答案不固定，满足题目要求即可\n",
    "model.add(tf.keras.layers.Dense(10, activation='softmax'))\n",
    "# （6）模型编译\n",
    "model.compile(optimizer='adam',\n",
    "              loss='sparse_categorical_crossentropy',\n",
    "              metrics=['accuracy'])\n",
    "\n",
    "# （7）模型训练\n",
    "model.fit(X_train_norm, y_train, epochs=20)\n",
    "\n",
    "# （8）模型评估\n",
    "model.evaluate(X_test_norm, y_test, verbose=1)\n"
   ]
  }
 ],
 "metadata": {
  "kernelspec": {
   "display_name": "Python 3",
   "language": "python",
   "name": "python3"
  },
  "language_info": {
   "codemirror_mode": {
    "name": "ipython",
    "version": 3
   },
   "file_extension": ".py",
   "mimetype": "text/x-python",
   "name": "python",
   "nbconvert_exporter": "python",
   "pygments_lexer": "ipython3",
   "version": "3.8.8"
  }
 },
 "nbformat": 4,
 "nbformat_minor": 5
}
