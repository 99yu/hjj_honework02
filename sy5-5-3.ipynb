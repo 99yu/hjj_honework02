{
 "cells": [
  {
   "cell_type": "code",
   "execution_count": null,
   "id": "7ef27753",
   "metadata": {},
   "outputs": [],
   "source": [
    "# _*_coding:utf-8_*_\n",
    "# （1）导入库\n",
    "import matplotlib.pyplot as plt\n",
    "from sklearn import datasets\n",
    "from sklearn.decomposition import PCA\n",
    "from sklearn.cluster import KMeans\n",
    "import time\n",
    "import numpy as np\n",
    "\n",
    "# （2）导入数据集\n",
    "wine = datasets.load_wine()\n",
    "X = wine.data\n",
    "y = wine.target\n",
    "print(X.shape)  # 查验扩展前数据规模\n",
    "for i in np.arange(10):\n",
    "    X = np.vstack((X, X))\n",
    "    y = np.hstack((y, y))\n",
    "print(X.shape)  # 查验扩展后数据规模\n",
    "\n",
    "# （3）降维前K-Means算法耗时\n",
    "ticks = time.time()\n",
    "kmean = KMeans(3)\n",
    "kmean.fit(X)\n",
    "print('降维前耗时:', time.time() - ticks, 's')\n",
    "\n",
    "# （4）降维\n",
    "pca = PCA(n_components=2)\n",
    "X_p = pca.fit_transform(X)\n",
    "\n",
    "# （5）降维后K-Means算法耗时\n",
    "ticks = time.time()\n",
    "kmean = KMeans(3)\n",
    "kmean.fit(X_p)\n",
    "print('降维后耗时:', time.time() - ticks, \"s\")\n",
    "\n",
    "# （6）聚类结果可视化\n",
    "labels = kmean.labels_\n",
    "centers = kmean.cluster_centers_\n",
    "colors = 'rgw'\n",
    "edge_colors = 'rgb'\n",
    "marker = 'x>o'\n",
    "for i in range(3):\n",
    "    plt.scatter(X_p[labels == i, 0], X_p[labels == i, 1], c=colors[i], edgecolors=edge_colors[i], marker=marker[i])\n",
    "plt.scatter(centers[:, 0], centers[:, 1], s=50, marker='*')  # 显示质心\n",
    "plt.show()\n"
   ]
  }
 ],
 "metadata": {
  "kernelspec": {
   "display_name": "Python 3",
   "language": "python",
   "name": "python3"
  },
  "language_info": {
   "codemirror_mode": {
    "name": "ipython",
    "version": 3
   },
   "file_extension": ".py",
   "mimetype": "text/x-python",
   "name": "python",
   "nbconvert_exporter": "python",
   "pygments_lexer": "ipython3",
   "version": "3.8.8"
  }
 },
 "nbformat": 4,
 "nbformat_minor": 5
}
