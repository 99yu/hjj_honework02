{
 "cells": [
  {
   "cell_type": "code",
   "execution_count": null,
   "id": "5b63bf68",
   "metadata": {},
   "outputs": [],
   "source": [
    "# 导入Pillow库\n",
    "from PIL import Image\n",
    "\n",
    "# 读入图像lena.jpg\n",
    "im = Image.open('lena.jpg')\n",
    "\n",
    "# 模式转换为二值图像\n",
    "new_im_test = im.convert(\"1\")\n",
    "print('图像new_im_L的模式为：', new_im_test.mode)\n",
    "new_im_test.show()\n",
    "\n",
    "# 将图像逆时针选择180度\n",
    "im_test = im.rotate(180)\n",
    "im_test.show()\n",
    "\n",
    "# 获取(100,100)像素的颜色值\n",
    "print(im.getpixel((100, 100)))\n",
    "\n",
    "# 分离合并颜色通道\n",
    "R, G, B = im.split()\n"
   ]
  }
 ],
 "metadata": {
  "kernelspec": {
   "display_name": "Python 3",
   "language": "python",
   "name": "python3"
  },
  "language_info": {
   "codemirror_mode": {
    "name": "ipython",
    "version": 3
   },
   "file_extension": ".py",
   "mimetype": "text/x-python",
   "name": "python",
   "nbconvert_exporter": "python",
   "pygments_lexer": "ipython3",
   "version": "3.8.8"
  }
 },
 "nbformat": 4,
 "nbformat_minor": 5
}
