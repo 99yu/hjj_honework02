{
 "cells": [
  {
   "cell_type": "code",
   "execution_count": null,
   "id": "61663821",
   "metadata": {},
   "outputs": [],
   "source": [
    "# （1）导入库\n",
    "from sklearn.datasets import make_blobs\n",
    "from matplotlib import pyplot as plt\n",
    "from sklearn.cluster import KMeans\n",
    "\n",
    "# （2）利用make_blobs函数生成200个样本数据，特征数为3的数据\n",
    "x, y = make_blobs(n_samples=200, n_features=3);\n",
    "\n",
    "# （3）利用散点图展示出来\n",
    "plt.figure(figsize=(6, 4), dpi=144)\n",
    "plt.xticks(())\n",
    "plt.yticks(())\n",
    "plt.scatter(x[:, 0], x[:, 1], s=20, marker='o');\n",
    "\n",
    "# （4）利用Kmeans函数聚类，聚类簇设为4\n",
    "n_clusters = 4\n",
    "kmean = KMeans(n_clusters)\n",
    "kmean.fit(x)\n",
    "\n",
    "# （5）将结果利用散点图显示出来\n",
    "labels = kmean.labels_\n",
    "centers = kmean.cluster_centers_\n",
    "markers = ['o', '^', '*', 'D']\n",
    "colors = ['r', 'b', 'y', 'g']\n",
    "plt.figure(figsize=(6, 4), dpi=144)\n",
    "plt.xticks(())\n",
    "plt.yticks(())\n",
    "for c in range(n_clusters):\n",
    "    cluster = x[labels == c]\n",
    "    plt.scatter(cluster[:, 0], cluster[:, 1], marker=markers[c], s=20, c=colors[c])\n",
    "plt.scatter(centers[:, 0], centers[:, 1], marker='o', c=\"white\", alpha=0.9, s=300)\n",
    "for i, c in enumerate(centers):\n",
    "    plt.scatter(c[0], c[1], marker='$%d$' % i, s=50, c=colors[i])\n",
    "plt.show()\n"
   ]
  },
  {
   "cell_type": "code",
   "execution_count": null,
   "id": "0413b94d",
   "metadata": {},
   "outputs": [],
   "source": []
  },
  {
   "cell_type": "code",
   "execution_count": null,
   "id": "f27e9540",
   "metadata": {},
   "outputs": [],
   "source": []
  }
 ],
 "metadata": {
  "kernelspec": {
   "display_name": "Python 3",
   "language": "python",
   "name": "python3"
  },
  "language_info": {
   "codemirror_mode": {
    "name": "ipython",
    "version": 3
   },
   "file_extension": ".py",
   "mimetype": "text/x-python",
   "name": "python",
   "nbconvert_exporter": "python",
   "pygments_lexer": "ipython3",
   "version": "3.8.8"
  }
 },
 "nbformat": 4,
 "nbformat_minor": 5
}
