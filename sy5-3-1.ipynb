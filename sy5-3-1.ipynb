{
 "cells": [
  {
   "cell_type": "code",
   "execution_count": null,
   "id": "8b728981",
   "metadata": {},
   "outputs": [],
   "source": [
    "# -*- coding: utf-8 -*-\n",
    "# （1）导入库\n",
    "from sklearn import linear_model\n",
    "\n",
    "# （2）加载训练数据\n",
    "X = [[0, 0], [1, 1], [2, 2]]\n",
    "y = [0, 1, 2]\n",
    "\n",
    "# （3）创建线性回归模型对象\n",
    "clf = linear_model.LinearRegression()\n",
    "\n",
    "# 在下面填写一行代码，实现使用数据集训练模型，拟合直线\n",
    "clf.fit(X, y)\n",
    "\n",
    "# （4）输出拟合好的函数的系数和截距\n",
    "print(clf.coef_)\n",
    "\n",
    "# 在下面填写一行代码，实现输出拟合好函数的截距\n",
    "print(clf.intercept_)\n"
   ]
  }
 ],
 "metadata": {
  "kernelspec": {
   "display_name": "Python 3",
   "language": "python",
   "name": "python3"
  },
  "language_info": {
   "codemirror_mode": {
    "name": "ipython",
    "version": 3
   },
   "file_extension": ".py",
   "mimetype": "text/x-python",
   "name": "python",
   "nbconvert_exporter": "python",
   "pygments_lexer": "ipython3",
   "version": "3.8.8"
  }
 },
 "nbformat": 4,
 "nbformat_minor": 5
}
