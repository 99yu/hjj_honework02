{
 "cells": [
  {
   "cell_type": "code",
   "execution_count": null,
   "id": "2d3e6fd4",
   "metadata": {},
   "outputs": [],
   "source": [
    "# （1）导入库\n",
    "import numpy as np\n",
    "import matplotlib.pyplot as plt\n",
    "from mpl_toolkits.mplot3d import Axes3D\n",
    "from sklearn.cluster import KMeans\n",
    "from sklearn import datasets\n",
    "\n",
    "plt.rcParams['font.sans-serif'] = ['SimHei']  # 避免中文出现乱码\n",
    "plt.rcParams['axes.unicode_minus'] = False\n",
    "\n",
    "# （2）利用load_iris()函数导入数据，并付给变量X\n",
    "iris = datasets.load_iris()  # 导入iris数据\n",
    "X = iris.data\n",
    "# （3）设置变量存储类簇数，并分别进行Kmeans聚类，同时进行可视化\n",
    "n_clusters_list = [2, 3, 4, 5]\n",
    "for n_clusters in n_clusters_list:\n",
    "    est = KMeans(n_clusters)  # 调用KMeans进行聚类\n",
    "    est.fit(X)  # 模型训练\n",
    "    labels = est.labels_\n",
    "    fig = plt.figure(figsize=(8, 5), dpi=144)\n",
    "    ax = Axes3D(fig, rect=[0, 0, 0.95, 1], elev=48, azim=134)\n",
    "    ax.scatter(X[:, 3], X[:, 0], X[:, 2], c=labels.astype(float), edgecolor='k')\n",
    "    ax.w_xaxis.set_ticklabels([])\n",
    "    ax.w_yaxis.set_ticklabels([])\n",
    "    ax.w_zaxis.set_ticklabels([])\n",
    "    ax.set_xlabel('花萼宽度')\n",
    "    ax.set_ylabel('萼片长度')\n",
    "    ax.set_zlabel('花瓣长度')\n",
    "    ax.set_title(str(n_clusters) + '类')\n",
    "    ax.dist = 12\n",
    "    plt.show()\n"
   ]
  },
  {
   "cell_type": "code",
   "execution_count": null,
   "id": "1313ad68",
   "metadata": {},
   "outputs": [],
   "source": []
  },
  {
   "cell_type": "code",
   "execution_count": null,
   "id": "d7dcd02b",
   "metadata": {},
   "outputs": [],
   "source": []
  },
  {
   "cell_type": "code",
   "execution_count": null,
   "id": "02f2dd23",
   "metadata": {},
   "outputs": [],
   "source": []
  }
 ],
 "metadata": {
  "kernelspec": {
   "display_name": "Python 3",
   "language": "python",
   "name": "python3"
  },
  "language_info": {
   "codemirror_mode": {
    "name": "ipython",
    "version": 3
   },
   "file_extension": ".py",
   "mimetype": "text/x-python",
   "name": "python",
   "nbconvert_exporter": "python",
   "pygments_lexer": "ipython3",
   "version": "3.8.8"
  }
 },
 "nbformat": 4,
 "nbformat_minor": 5
}
