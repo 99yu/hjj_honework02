{
 "cells": [
  {
   "cell_type": "code",
   "execution_count": 4,
   "id": "21e1e2f9",
   "metadata": {},
   "outputs": [
    {
     "data": {
      "image/png": "[encoded data removed]",
      "text/plain": [
       "<Figure size 432x288 with 1 Axes>"
      ]
     },
     "metadata": {
      "needs_background": "light"
     },
     "output_type": "display_data"
    }
   ],
   "source": [
    "# _*_coding:utf-8_*_\n",
    "# （1）导入库\n",
    "import matplotlib.pyplot as plt\n",
    "from sklearn.datasets import load_boston\n",
    "from sklearn.decomposition import PCA\n",
    "from sklearn.preprocessing import StandardScaler\n",
    "import numpy as np\n",
    "\n",
    "plt.rcParams['font.sans-serif'] = ['SimHei']  # 避免中文出现乱码\n",
    "plt.rcParams['axes.unicode_minus'] = False\n",
    "\n",
    "# （2）导入数据集\n",
    "boston = load_boston()\n",
    "X = boston.data\n",
    "y = boston.target\n",
    "\n",
    "# （3）标准化\n",
    "scaler = StandardScaler()\n",
    "X_input = scaler.fit(X).transform(X)\n",
    "\n",
    "# （4）PCA降维\n",
    "pca = PCA()\n",
    "pca.fit(X_input).transform(X_input)\n",
    "\n",
    "# （5）可视化\n",
    "p = [0]\n",
    "explained_sum = 0\n",
    "for i in pca.explained_variance_ratio_:# 降维后的各主成分的⽅差值占总⽅差值的⽐例\n",
    "    explained_sum = explained_sum + i * 100\n",
    "    p.append(explained_sum)  # 获得的每一个目标维度下方差占比\n",
    "plt.plot(p)\n",
    "plt.xlabel('保留的主成分')\n",
    "plt.ylabel('解释的方差值占总方差比例')\n",
    "plt.xticks(np.arange(0, 14, 1))  # 设置x轴刻度\n",
    "plt.yticks(np.arange(0, 101, 10))  # 设置y轴刻度\n",
    "plt.grid()  # 添加网格\n",
    "plt.show()\n"
   ]
  },
  {
   "cell_type": "code",
   "execution_count": 2,
   "id": "a9b7f5e1",
   "metadata": {},
   "outputs": [
    {
     "data": {
      "text/plain": [
       "array([[-0.41978194,  0.28482986, -1.2879095 , ..., -1.45900038,\n",
       "         0.44105193, -1.0755623 ],\n",
       "       [-0.41733926, -0.48772236, -0.59338101, ..., -0.30309415,\n",
       "         0.44105193, -0.49243937],\n",
       "       [-0.41734159, -0.48772236, -0.59338101, ..., -0.30309415,\n",
       "         0.39642699, -1.2087274 ],\n",
       "       ...,\n",
       "       [-0.41344658, -0.48772236,  0.11573841, ...,  1.17646583,\n",
       "         0.44105193, -0.98304761],\n",
       "       [-0.40776407, -0.48772236,  0.11573841, ...,  1.17646583,\n",
       "         0.4032249 , -0.86530163],\n",
       "       [-0.41500016, -0.48772236,  0.11573841, ...,  1.17646583,\n",
       "         0.44105193, -0.66905833]])"
      ]
     },
     "execution_count": 2,
     "metadata": {},
     "output_type": "execute_result"
    }
   ],
   "source": [
    "X_input"
   ]
  },
  {
   "cell_type": "code",
   "execution_count": null,
   "id": "2106eea8",
   "metadata": {},
   "outputs": [],
   "source": []
  }
 ],
 "metadata": {
  "kernelspec": {
   "display_name": "Python 3",
   "language": "python",
   "name": "python3"
  },
  "language_info": {
   "codemirror_mode": {
    "name": "ipython",
    "version": 3
   },
   "file_extension": ".py",
   "mimetype": "text/x-python",
   "name": "python",
   "nbconvert_exporter": "python",
   "pygments_lexer": "ipython3",
   "version": "3.8.8"
  }
 },
 "nbformat": 4,
 "nbformat_minor": 5
}
