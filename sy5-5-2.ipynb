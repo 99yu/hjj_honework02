{
 "cells": [
  {
   "cell_type": "code",
   "execution_count": null,
   "id": "9b7f4e80",
   "metadata": {},
   "outputs": [],
   "source": [
    "# _*_coding:utf-8_*_\n",
    "# （1）导入库\n",
    "import matplotlib.pyplot as plt\n",
    "from sklearn.datasets import load_wine\n",
    "from sklearn.decomposition import PCA\n",
    "\n",
    "plt.rcParams['font.sans-serif'] = ['SimHei']  # 避免中文出现乱码\n",
    "plt.rcParams['axes.unicode_minus'] = False\n",
    "\n",
    "# （2）导入数据集\n",
    "wine = load_wine()\n",
    "X = wine.data\n",
    "y = wine.target\n",
    "\n",
    "# （3）降维\n",
    "pca = PCA(n_components=2)\n",
    "X_p = pca.fit_transform(X)\n",
    "\n",
    "# （4）输出图像\n",
    "plt.figure()\n",
    "colors = 'rgw'\n",
    "edge_colors = 'rgb'\n",
    "marker = 'x>o'\n",
    "label = wine.target_names\n",
    "for i in range(3):  # 类别数\n",
    "    plt.scatter(X_p[y == i, 0], X_p[y == i, 1], c=colors[i], edgecolors=edge_colors[i], marker=marker[i],\n",
    "                label=label[i])\n",
    "plt.xlabel('维度1')\n",
    "plt.ylabel('维度2')\n",
    "plt.title('葡萄酒')\n",
    "plt.legend()\n",
    "plt.show()\n"
   ]
  }
 ],
 "metadata": {
  "kernelspec": {
   "display_name": "Python 3",
   "language": "python",
   "name": "python3"
  },
  "language_info": {
   "codemirror_mode": {
    "name": "ipython",
    "version": 3
   },
   "file_extension": ".py",
   "mimetype": "text/x-python",
   "name": "python",
   "nbconvert_exporter": "python",
   "pygments_lexer": "ipython3",
   "version": "3.8.8"
  }
 },
 "nbformat": 4,
 "nbformat_minor": 5
}
