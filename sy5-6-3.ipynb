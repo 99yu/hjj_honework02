{
 "cells": [
  {
   "cell_type": "code",
   "execution_count": null,
   "id": "b78f9b18",
   "metadata": {},
   "outputs": [],
   "source": [
    "# （1）导入库\n",
    "from sklearn.datasets import load_breast_cancer\n",
    "import matplotlib.pyplot as plt\n",
    "import numpy as np\n",
    "from sklearn.neighbors import KNeighborsClassifier\n",
    "from sklearn.model_selection import train_test_split\n",
    "from sklearn.metrics import classification_report\n",
    "\n",
    "# （2）调用load_breast_cancer()读入信息\n",
    "digits = load_breast_cancer()\n",
    "\n",
    "# （3）分割数据\n",
    "X_train, X_test, Y_train, Y_test = train_test_split(digits.data, digits.target, test_size=0.25, random_state=33)\n",
    "\n",
    "# （4）利用KNN模型进行分类\n",
    "knc = KNeighborsClassifier()\n",
    "knc.fit(X_train, Y_train)\n",
    "y_predict = knc.predict(X_test)\n",
    "\n",
    "# （5）使用模型自带的评估函数进行准确性测评。\n",
    "print('The accuracy of K-Nearest Neighbor Classifier is', knc.score(X_test, Y_test))\n",
    "\n",
    "# （6）使用sklearn.metrics里面的classification_report模块对预测结果做更加详细的分析。\n",
    "print(classification_report(Y_test, y_predict))\n"
   ]
  }
 ],
 "metadata": {
  "kernelspec": {
   "display_name": "Python 3",
   "language": "python",
   "name": "python3"
  },
  "language_info": {
   "codemirror_mode": {
    "name": "ipython",
    "version": 3
   },
   "file_extension": ".py",
   "mimetype": "text/x-python",
   "name": "python",
   "nbconvert_exporter": "python",
   "pygments_lexer": "ipython3",
   "version": "3.8.8"
  }
 },
 "nbformat": 4,
 "nbformat_minor": 5
}
