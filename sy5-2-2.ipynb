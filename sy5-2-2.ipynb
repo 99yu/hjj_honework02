{
 "cells": [
  {
   "cell_type": "code",
   "execution_count": null,
   "id": "b1913bb3",
   "metadata": {},
   "outputs": [],
   "source": [
    "# （1）导入库\n",
    "from sklearn.datasets import make_blobs\n",
    "from matplotlib import pyplot as plt\n",
    "from sklearn.neighbors import KNeighborsClassifier\n",
    "from sklearn.model_selection import train_test_split\n",
    "from sklearn.metrics import classification_report\n",
    "\n",
    "# （2）利用make_blobs函数生成200个样本数据，特征数为2的数据\n",
    "X, Y = make_blobs(n_samples=150, n_features=2);\n",
    "\n",
    "# （3）利用散点图展示出来\n",
    "plt.figure(figsize=(6, 4), dpi=144)\n",
    "plt.xticks(())\n",
    "plt.yticks(())\n",
    "plt.scatter(X[:, 0], X[:, 1], s=20, marker='o');\n",
    "\n",
    "X_train, X_test, Y_train, Y_test = train_test_split(X, Y, test_size=0.2);\n",
    "# （3）利用KNN模型进行分类\n",
    "knc = KNeighborsClassifier()\n",
    "knc.fit(X_train, Y_train)\n",
    "y_predict = knc.predict(X_test)\n",
    "\n",
    "# （4）使用模型自带的评估函数进行准确性测评。\n",
    "print('The accuracy of K-Nearest Neighbor Classifier is', knc.score(X_test, Y_test))\n",
    "\n",
    "# （5）使用sklearn.metrics里面的classification_report模块对预测结果做更加详细的分析。\n",
    "print(classification_report(Y_test, y_predict))\n"
   ]
  }
 ],
 "metadata": {
  "kernelspec": {
   "display_name": "Python 3",
   "language": "python",
   "name": "python3"
  },
  "language_info": {
   "codemirror_mode": {
    "name": "ipython",
    "version": 3
   },
   "file_extension": ".py",
   "mimetype": "text/x-python",
   "name": "python",
   "nbconvert_exporter": "python",
   "pygments_lexer": "ipython3",
   "version": "3.8.8"
  }
 },
 "nbformat": 4,
 "nbformat_minor": 5
}
