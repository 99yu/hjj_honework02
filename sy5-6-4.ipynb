{
 "cells": [
  {
   "cell_type": "code",
   "execution_count": null,
   "id": "0ac517ef",
   "metadata": {},
   "outputs": [],
   "source": [
    "# -*- coding: utf-8 -*-\n",
    "\"\"\"\n",
    "针对以下数据集，编程训练一个日均学习时间和成绩关系的线性回归模型，\n",
    "请基于该模型进行预测，输出日均学习时间为2小时的学生，他们的成绩。\n",
    "\"\"\"\n",
    "import matplotlib.pyplot as plt\n",
    "\n",
    "# （1）导入库\n",
    "from sklearn import linear_model\n",
    "import numpy as np\n",
    "\n",
    "# （2）加载数据集 \n",
    "x = [3, 4, 5, 6, 7, 8, 9, 10, 11, 12]\n",
    "y = [50, 50, 60, 70, 80, 88, 85, 90, 85, 90]\n",
    "X = np.array(x).reshape(-1, 1)\n",
    "Y = np.array(y).reshape(-1, 1)\n",
    "# （3）创建线性回归模型对象\n",
    "clf = linear_model.LinearRegression()\n",
    "# 使用数据集训练模型，拟合直线\n",
    "clf.fit(X, Y)\n",
    "\n",
    "# （4）输出拟合好的函数的系数和截距\n",
    "print(clf.coef_)\n",
    "# [ 0.5 0.5]\n",
    "print(clf.intercept_)\n",
    "# 1.11022302463e-16\n",
    "\n",
    "# 测试\n",
    "X_test = [[2]]\n",
    "\n",
    "prediction = clf.predict(X_test)\n",
    "\n",
    "print(\"时间：\\n\", X_test, \"\\n成绩预测值：\\n\", prediction)\n",
    "\n",
    "\"\"\"\n",
    "运行结果\n",
    "[[4.8969697]]\n",
    "[38.07272727]\n",
    "时间：\n",
    " [[2]] \n",
    "成绩预测值：\n",
    " [[47.86666667]]\n",
    "\"\"\"\n"
   ]
  }
 ],
 "metadata": {
  "kernelspec": {
   "display_name": "Python 3",
   "language": "python",
   "name": "python3"
  },
  "language_info": {
   "codemirror_mode": {
    "name": "ipython",
    "version": 3
   },
   "file_extension": ".py",
   "mimetype": "text/x-python",
   "name": "python",
   "nbconvert_exporter": "python",
   "pygments_lexer": "ipython3",
   "version": "3.8.8"
  }
 },
 "nbformat": 4,
 "nbformat_minor": 5
}
