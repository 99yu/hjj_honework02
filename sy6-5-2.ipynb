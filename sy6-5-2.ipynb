{
 "cells": [
  {
   "cell_type": "code",
   "execution_count": null,
   "id": "64f6e343",
   "metadata": {},
   "outputs": [],
   "source": [
    "# 导入外部库和Fashion-MNIST数据集\n",
    "import tensorflow as tf\n",
    "import matplotlib.pyplot as plt\n",
    "from sklearn import metrics\n",
    "\n",
    "fashion_mnist = tf.keras.datasets.fashion_mnist\n",
    "(X_train, y_train), (X_test, y_test) = fashion_mnist.load_data()\n",
    "\n",
    "# 建立映射表\n",
    "class_names = ['T-shirt/top', 'Trouser', 'Pullover', 'Dress', 'Coat', \\\n",
    "               'Sandal', 'Shirt', 'Sneaker', 'Bag', 'Ankle boot']\n",
    "\n",
    "# 利用reshape函数转换数字图像\n",
    "X_train_reshape = X_train.reshape(X_train.shape[0], 28, 28, 1)\n",
    "X_test_reshape = X_test.reshape(X_test.shape[0], 28, 28, 1)\n",
    "\n",
    "# 归一化数字图像\n",
    "X_train_norm, X_test_norm = X_train_reshape / 255.0, X_test_reshape / 255.0\n",
    "\n",
    "# 构建Sequential模型\n",
    "model = tf.keras.models.Sequential()\n",
    "\n",
    "# 构造卷积神经网络\n",
    "# 构建卷积层\n",
    "model.add(tf.keras.layers.Conv2D(32, (3, 3), activation='relu', input_shape=(28, 28, 1)))\n",
    "# 构建池化层\n",
    "model.add(tf.keras.layers.MaxPooling2D((2, 2)))\n",
    "# 构建卷积层\n",
    "model.add(tf.keras.layers.Conv2D(200, (3, 3), activation='relu'))\n",
    "# 构建Dropout层\n",
    "model.add(tf.keras.layers.Dropout(rate=0.2))\n",
    "\n",
    "# 构建全连接层\n",
    "model.add(tf.keras.layers.Flatten())\n",
    "model.add(tf.keras.layers.Dense(50, activation='relu'))\n",
    "model.add(tf.keras.layers.Dense(10, activation='softmax'))\n",
    "\n",
    "# 模型编译\n",
    "model.compile(optimizer='adam',\n",
    "              loss='sparse_categorical_crossentropy',\n",
    "              metrics=['accuracy'])\n",
    "\n",
    "# 模型训练\n",
    "history = model.fit(X_train_norm, y_train, validation_split=0.2, epochs=10, verbose=1)\n"
   ]
  }
 ],
 "metadata": {
  "kernelspec": {
   "display_name": "Python 3",
   "language": "python",
   "name": "python3"
  },
  "language_info": {
   "codemirror_mode": {
    "name": "ipython",
    "version": 3
   },
   "file_extension": ".py",
   "mimetype": "text/x-python",
   "name": "python",
   "nbconvert_exporter": "python",
   "pygments_lexer": "ipython3",
   "version": "3.8.8"
  }
 },
 "nbformat": 4,
 "nbformat_minor": 5
}
