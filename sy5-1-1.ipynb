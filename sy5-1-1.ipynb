{
 "cells": [
  {
   "cell_type": "code",
   "execution_count": null,
   "id": "35d9d78f",
   "metadata": {},
   "outputs": [],
   "source": [
    "import pandas as pd\n",
    "import numpy as np\n",
    "from sklearn.preprocessing import MinMaxScaler\n",
    "from sklearn.preprocessing import Normalizer\n",
    "\n",
    "# 创建表示5×5的随机矩阵的DataFrame对象frame\n",
    "ar = np.random.randint(1, 51, 25).reshape(5, 5)\n",
    "frame = pd.DataFrame(ar)\n",
    "print(frame)\n",
    "\n",
    "# 转换器实例化\n",
    "minmax_scaler = MinMaxScaler()\n",
    "# 数据归一化\n",
    "minmax_result = minmax_scaler.fit_transform(frame)\n",
    "print(\"数据归一化：\\n\", minmax_result)\n",
    "\n",
    "# 转换器实例化\n",
    "normalization_scaler = Normalizer()\n",
    "# 数据正则化\n",
    "normalization_result = normalization_scaler.fit_transform(frame)\n",
    "print(\"数据正则化：\\n\", normalization_result)"
   ]
  }
 ],
 "metadata": {
  "kernelspec": {
   "display_name": "Python 3",
   "language": "python",
   "name": "python3"
  },
  "language_info": {
   "codemirror_mode": {
    "name": "ipython",
    "version": 3
   },
   "file_extension": ".py",
   "mimetype": "text/x-python",
   "name": "python",
   "nbconvert_exporter": "python",
   "pygments_lexer": "ipython3",
   "version": "3.8.8"
  }
 },
 "nbformat": 4,
 "nbformat_minor": 5
}
