{
 "cells": [
  {
   "cell_type": "code",
   "execution_count": 6,
   "id": "5a71ed86",
   "metadata": {},
   "outputs": [
    {
     "name": "stdout",
     "output_type": "stream",
     "text": [
      "图像的尺寸为： (512, 512)\n",
      "图像new_im_L的模式为： L\n",
      "图像im_resize的尺寸为： (220, 150)\n"
     ]
    }
   ],
   "source": [
    "# 导入Pillow库\n",
    "from PIL import Image\n",
    "\n",
    "# 读入图像lena.jpg\n",
    "im = Image.open('C:\\\\Users\\\\Administrator\\\\Desktop\\\\人工智能基础\\配套资源（实验素材A版）\\\\第6章\\\\lena.jpg')#lena.jpg文件所在为止不同，路径也不一样\n",
    "print('图像的尺寸为：', im.size)\n",
    "\n",
    "# 模式转换为灰度图\n",
    "new_im_L = im.convert(\"L\")\n",
    "print('图像new_im_L的模式为：', new_im_L.mode)\n",
    "\n",
    "# 将图像设置为220*150，并显示\n",
    "im_resize = im.resize((220, 150))  # 重新设定大小\n",
    "print('图像im_resize的尺寸为：', im_resize.size)\n",
    "im_resize.show()\n",
    "\n",
    "# 显示边缘信息\n",
    "from PIL import ImageFilter\n",
    "\n",
    "im_test = im.filter(ImageFilter.CONTOUR)#ImageFilter.CONTOUR为轮廓滤波，将图像中的轮廓信息全部提取出来。\n",
    "im_test.show()\n"
   ]
  },
  {
   "cell_type": "code",
   "execution_count": null,
   "id": "78ad02e5",
   "metadata": {},
   "outputs": [],
   "source": []
  },
  {
   "cell_type": "code",
   "execution_count": null,
   "id": "345593a2",
   "metadata": {},
   "outputs": [],
   "source": []
  }
 ],
 "metadata": {
  "kernelspec": {
   "display_name": "Python 3",
   "language": "python",
   "name": "python3"
  },
  "language_info": {
   "codemirror_mode": {
    "name": "ipython",
    "version": 3
   },
   "file_extension": ".py",
   "mimetype": "text/x-python",
   "name": "python",
   "nbconvert_exporter": "python",
   "pygments_lexer": "ipython3",
   "version": "3.8.8"
  }
 },
 "nbformat": 4,
 "nbformat_minor": 5
}
