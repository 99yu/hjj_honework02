{
 "cells": [
  {
   "cell_type": "code",
   "execution_count": null,
   "id": "dac904ce",
   "metadata": {},
   "outputs": [],
   "source": [
    "# （1）导入库\n",
    "from sklearn.datasets import load_digits\n",
    "from sklearn.cluster import KMeans\n",
    "import matplotlib.pyplot as plt\n",
    "import numpy as np\n",
    "from sklearn.decomposition import PCA\n",
    "from sklearn.preprocessing import scale\n",
    "\n",
    "# （2）调用load_digits()读入手写数字信息，并显示前十张图片展示手写数字\n",
    "digits = load_digits()\n",
    "images = digits.images\n",
    "plt.figure(figsize=(10, 5))\n",
    "plt.suptitle('handwritten_Image')\n",
    "# 前十张图片\n",
    "for i in range(10):\n",
    "    plt.subplot(2, 5, i + 1), plt.title('image%i' % (i + 1))\n",
    "    plt.imshow(images[i]), plt.axis('off')\n",
    "plt.show()\n",
    "\n",
    "# （3）进行标准化\n",
    "data = scale(digits.data)\n",
    "n_digits = len(np.unique(digits.target))\n",
    "\n",
    "# （4）利用PCA进行降维处理\n",
    "reduced_data = PCA(n_components=2).fit_transform(data)\n",
    "\n",
    "# （5）调用KMeans进行聚类分析\n",
    "kmeans = KMeans(n_clusters=n_digits)\n",
    "kmeans.fit(reduced_data)\n",
    "\n",
    "# （6）可视化聚类结果\n",
    "label_pred = kmeans.labels_\n",
    "plt.clf()\n",
    "# 画簇心和点\n",
    "centroids = kmeans.cluster_centers_\n",
    "plt.scatter(centroids[:, 0], centroids[:, 1],\n",
    "            marker='x', s=169, linewidths=3,\n",
    "            color='w', zorder=10)\n",
    "color_list = ['#000080', '#006400', '#00CED1', '#800000', '#800080',\n",
    "              '#CD5C5C', '#DAA520', '#E6E6FA', '#F08080', '#FFE4C4']\n",
    "for i in range(n_digits):\n",
    "    x = reduced_data[label_pred == i]\n",
    "    plt.scatter(x[:, 0], x[:, 1], c=color_list[i], marker='.', label='label%s' % i)\n",
    "plt.title('K-means')\n",
    "plt.axis('on')\n",
    "plt.show()\n"
   ]
  }
 ],
 "metadata": {
  "kernelspec": {
   "display_name": "Python 3",
   "language": "python",
   "name": "python3"
  },
  "language_info": {
   "codemirror_mode": {
    "name": "ipython",
    "version": 3
   },
   "file_extension": ".py",
   "mimetype": "text/x-python",
   "name": "python",
   "nbconvert_exporter": "python",
   "pygments_lexer": "ipython3",
   "version": "3.8.8"
  }
 },
 "nbformat": 4,
 "nbformat_minor": 5
}
