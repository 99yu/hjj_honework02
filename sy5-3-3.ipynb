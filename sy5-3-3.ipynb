{
 "cells": [
  {
   "cell_type": "code",
   "execution_count": 1,
   "id": "c663eb07",
   "metadata": {},
   "outputs": [
    {
     "name": "stdout",
     "output_type": "stream",
     "text": [
      "[[0.60004203]]\n",
      "[69.91277848]\n",
      "父母身高：\n",
      " [[170]] \n",
      "儿子身高预测值：\n",
      " [[171.91992434]]\n"
     ]
    }
   ],
   "source": [
    "# 导入库\n",
    "import matplotlib.pyplot as plt\n",
    "from sklearn import linear_model\n",
    "import numpy as np\n",
    "\n",
    "# 加载数据集\n",
    "x = [173, 155, 160, 165, 170, 175, 180, 170, 190, 180]\n",
    "y = [170, 162, 164, 169, 175, 178, 185, 172, 180, 175]\n",
    "X = np.array(x).reshape(-1, 1)\n",
    "Y = np.array(y).reshape(-1, 1)\n",
    "# 创建线性回归模型对象\n",
    "clf = linear_model.LinearRegression()\n",
    "\n",
    "# 使用数据集训练模型，拟合直线\n",
    "clf.fit(X, Y)\n",
    "\n",
    "# 输出拟合好的函数的系数和截距\n",
    "print(clf.coef_)\n",
    "\n",
    "print(clf.intercept_)\n",
    "\n",
    "# 测试\n",
    "X_test = [[170]]\n",
    "\n",
    "# 预测身高\n",
    "prediction = clf.predict(X_test)\n",
    "\n",
    "print(\"父母身高：\\n\", X_test, \"\\n儿子身高预测值：\\n\", prediction)\n",
    "\n"
   ]
  },
  {
   "cell_type": "code",
   "execution_count": 3,
   "id": "11e6ba55",
   "metadata": {},
   "outputs": [
    {
     "name": "stdout",
     "output_type": "stream",
     "text": [
      "[[0.60004203]]\n"
     ]
    }
   ],
   "source": [
    "print(clf.coef_)"
   ]
  },
  {
   "cell_type": "code",
   "execution_count": null,
   "id": "ce492231",
   "metadata": {},
   "outputs": [],
   "source": []
  }
 ],
 "metadata": {
  "kernelspec": {
   "display_name": "Python 3",
   "language": "python",
   "name": "python3"
  },
  "language_info": {
   "codemirror_mode": {
    "name": "ipython",
    "version": 3
   },
   "file_extension": ".py",
   "mimetype": "text/x-python",
   "name": "python",
   "nbconvert_exporter": "python",
   "pygments_lexer": "ipython3",
   "version": "3.8.8"
  }
 },
 "nbformat": 4,
 "nbformat_minor": 5
}
